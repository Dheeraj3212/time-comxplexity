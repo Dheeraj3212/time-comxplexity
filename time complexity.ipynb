{
 "cells": [
  {
   "cell_type": "code",
   "execution_count": 1,
   "id": "6ba76ee2-8e1e-4886-8118-3a3e17c9f554",
   "metadata": {},
   "outputs": [
    {
     "name": "stdout",
     "output_type": "stream",
     "text": [
      "Element appearing maximum number of times: 3\n"
     ]
    }
   ],
   "source": [
    "def max_frequency_element(arr):\n",
    "\n",
    "    freq_map = {}\n",
    "    \n",
    "\n",
    "    for num in arr:\n",
    "        if num in freq_map:\n",
    "            freq_map[num] += 1\n",
    "        else:\n",
    "            freq_map[num] = 1\n",
    "    \n",
    "\n",
    "    max_frequency = 0\n",
    "    max_element = None\n",
    "    for num, frequency in freq_map.items():\n",
    "        if frequency > max_frequency:\n",
    "            max_frequency = frequency\n",
    "            max_element = num\n",
    "    \n",
    "    return max_element\n",
    "\n",
    "arr = [1, 3, 2, 3, 4, 3, 2, 2, 4]\n",
    "print(\"Element appearing maximum number of times:\", max_frequency_element(arr))"
   ]
  },
  {
   "cell_type": "code",
   "execution_count": 2,
   "id": "f7d09072-7c3c-4c5b-8360-d96c5098e2d1",
   "metadata": {},
   "outputs": [
    {
     "name": "stdout",
     "output_type": "stream",
     "text": [
      "Missing number: 5\n"
     ]
    }
   ],
   "source": [
    "def find_missing_number(nums):\n",
    "    n = len(nums) + 1\n",
    "    expected_sum = (n * (n + 1)) // 2\n",
    "    actual_sum = sum(nums)\n",
    "    missing_number = expected_sum - actual_sum\n",
    "    return missing_number\n",
    "\n",
    "# Example usage:\n",
    "nums = [1, 2, 4, 6, 3, 7, 8]\n",
    "missing_num = find_missing_number(nums)\n",
    "print(\"Missing number:\", missing_num)"
   ]
  },
  {
   "cell_type": "code",
   "execution_count": 3,
   "id": "a74933d5-2255-4172-b96a-e6e0e34ded55",
   "metadata": {},
   "outputs": [
    {
     "name": "stdout",
     "output_type": "stream",
     "text": [
      "Number occurring odd number of times: 3\n"
     ]
    }
   ],
   "source": [
    "def find_odd_occurrence(nums):\n",
    "    result = 0\n",
    "    for num in nums:\n",
    "        result ^= num\n",
    "    return result\n",
    "\n",
    "nums = [1, 2, 3, 2, 3, 1, 3]\n",
    "odd_occurrence = find_odd_occurrence(nums)\n",
    "print(\"Number occurring odd number of times:\", odd_occurrence)"
   ]
  },
  {
   "cell_type": "code",
   "execution_count": 4,
   "id": "95768936-9689-41b6-bc35-e8e3eac4ca66",
   "metadata": {},
   "outputs": [
    {
     "name": "stdout",
     "output_type": "stream",
     "text": [
      "Pair with sum 10 : (6, 4)\n"
     ]
    }
   ],
   "source": [
    "def find_pair_with_sum(arr, K):\n",
    "    diff_map = {}\n",
    "    for num in arr:\n",
    "        diff = K - num\n",
    "        if diff in diff_map:\n",
    "            return (num, diff)\n",
    "        else:\n",
    "            diff_map[num] = diff\n",
    "    return None\n",
    "\n",
    "arr = [1, 4, 6, 8, 2, 5]\n",
    "K = 10\n",
    "pair = find_pair_with_sum(arr, K)\n",
    "if pair:\n",
    "    print(\"Pair with sum\", K, \":\", pair)\n",
    "else:\n",
    "    print(\"No pair found with sum\", K)"
   ]
  },
  {
   "cell_type": "code",
   "execution_count": 5,
   "id": "73621420-ae0d-4d67-9e76-72575af95a5e",
   "metadata": {},
   "outputs": [
    {
     "name": "stdout",
     "output_type": "stream",
     "text": [
      "Pair with sum closest to 0: (-80, 85)\n"
     ]
    }
   ],
   "source": [
    "def closest_to_zero(arr):\n",
    "    arr.sort()\n",
    "    left, right = 0, len(arr) - 1\n",
    "    closest_sum = float('inf')\n",
    "    closest_pair = None\n",
    "\n",
    "    while left < right:\n",
    "        current_sum = arr[left] + arr[right]\n",
    "        if abs(current_sum) < abs(closest_sum):\n",
    "            closest_sum = current_sum\n",
    "            closest_pair = (arr[left], arr[right])\n",
    "\n",
    "        if current_sum < 0:\n",
    "            left += 1\n",
    "        elif current_sum > 0:\n",
    "            right -= 1\n",
    "        else:\n",
    "            return closest_pair\n",
    "\n",
    "    return closest_pair\n",
    "\n",
    "\n",
    "arr = [1, 60, -10, 70, -80, 85]\n",
    "closest_pair = closest_to_zero(arr)\n",
    "print(\"Pair with sum closest to 0:\", closest_pair)"
   ]
  },
  {
   "cell_type": "code",
   "execution_count": 6,
   "id": "a2d3a941-add4-4566-956a-d656bf151665",
   "metadata": {},
   "outputs": [
    {
     "name": "stdout",
     "output_type": "stream",
     "text": [
      "Triplet with sum 22 : (4, 8, 10)\n"
     ]
    }
   ],
   "source": [
    "def find_triplet_with_sum(arr, target):\n",
    "    arr.sort()\n",
    "    n = len(arr)\n",
    "\n",
    "    for i in range(n - 2):\n",
    "        left, right = i + 1, n - 1\n",
    "        while left < right:\n",
    "            current_sum = arr[i] + arr[left] + arr[right]\n",
    "            if current_sum == target:\n",
    "                return (arr[i], arr[left], arr[right])\n",
    "            elif current_sum < target:\n",
    "                left += 1\n",
    "            else:\n",
    "                right -= 1\n",
    "\n",
    "    return None\n",
    "\n",
    "\n",
    "arr = [1, 4, 45, 6, 10, 8]\n",
    "target = 22\n",
    "triplet = find_triplet_with_sum(arr, target)\n",
    "if triplet:\n",
    "    print(\"Triplet with sum\", target, \":\", triplet)\n",
    "else:\n",
    "    print(\"No triplet found with sum\", target)"
   ]
  },
  {
   "cell_type": "code",
   "execution_count": 7,
   "id": "bfd1c6a8-aa5e-48ac-a741-9e155006ff44",
   "metadata": {},
   "outputs": [
    {
     "name": "stdout",
     "output_type": "stream",
     "text": [
      "Triplet (i, j, k) found: (3, 4, 5)\n"
     ]
    }
   ],
   "source": [
    "def find_triplet_pythagorean(arr):\n",
    "    arr = [x*x for x in arr] \n",
    "    arr.sort()\n",
    "    n = len(arr)\n",
    "    for k in range(n - 1, 1, -1):\n",
    "        left, right = 0, k - 1\n",
    "        while left < right:\n",
    "            current_sum = arr[left] + arr[right]\n",
    "            if current_sum == arr[k]:\n",
    "                return (int(arr[left]**0.5), int(arr[right]**0.5), int(arr[k]**0.5))\n",
    "            elif current_sum < arr[k]:\n",
    "                left += 1\n",
    "            else:\n",
    "                right -= 1\n",
    "\n",
    "    return None\n",
    "\n",
    "\n",
    "arr = [3, 1, 4, 6, 5]\n",
    "triplet = find_triplet_pythagorean(arr)\n",
    "if triplet:\n",
    "    print(\"Triplet (i, j, k) found:\", triplet)\n",
    "else:\n",
    "    print(\"No such triplet found.\")"
   ]
  },
  {
   "cell_type": "code",
   "execution_count": 8,
   "id": "93cc859e-0b03-498c-8807-b6a7d10fbdc0",
   "metadata": {},
   "outputs": [
    {
     "name": "stdout",
     "output_type": "stream",
     "text": [
      "Majority element: 4\n"
     ]
    }
   ],
   "source": [
    "def find_majority_element(arr):\n",
    "    candidate = arr[0]\n",
    "    count = 1\n",
    "\n",
    "    \n",
    "    for num in arr[1:]:\n",
    "        if num == candidate:\n",
    "            count += 1\n",
    "        else:\n",
    "            count -= 1\n",
    "            if count == 0:\n",
    "                candidate = num\n",
    "                count = 1\n",
    "\n",
    "    \n",
    "    count_candidate = sum(1 for num in arr if num == candidate)\n",
    "    if count_candidate > len(arr) // 2:\n",
    "        return candidate\n",
    "    else:\n",
    "        return None\n",
    "\n",
    "\n",
    "arr = [3, 3, 4, 2, 4, 4, 2, 4, 4]\n",
    "majority_element = find_majority_element(arr)\n",
    "if majority_element is not None:\n",
    "    print(\"Majority element:\", majority_element)\n",
    "else:\n",
    "    print(\"No majority element found.\")"
   ]
  },
  {
   "cell_type": "code",
   "execution_count": 9,
   "id": "67b6b7f7-52a1-4ffb-932d-feb316a234cd",
   "metadata": {},
   "outputs": [
    {
     "name": "stdout",
     "output_type": "stream",
     "text": [
      "Row with maximum number of zeros: 2\n"
     ]
    }
   ],
   "source": [
    "def find_max_zeros_row(matrix):\n",
    "    n = len(matrix)\n",
    "    max_zeros_row = -1\n",
    "    max_zeros_count = 0\n",
    "\n",
    "    for i in range(n):\n",
    "        left, right = 0, n - 1\n",
    "        while left <= right:\n",
    "            mid = (left + right) // 2\n",
    "            if matrix[i][mid] == 0:\n",
    "                right = mid - 1\n",
    "            else:\n",
    "                left = mid + 1\n",
    "\n",
    "        zeros_count = n - left\n",
    "        if zeros_count > max_zeros_count:\n",
    "            max_zeros_count = zeros_count\n",
    "            max_zeros_row = i\n",
    "\n",
    "    return max_zeros_row\n",
    "\n",
    "\n",
    "matrix = [\n",
    "    [1, 1, 1, 0],\n",
    "    [1, 1, 0, 0],\n",
    "    [1, 0, 0, 0],\n",
    "    [1, 1, 1, 1]\n",
    "]\n",
    "max_zeros_row = find_max_zeros_row(matrix)\n",
    "print(\"Row with maximum number of zeros:\", max_zeros_row)"
   ]
  },
  {
   "cell_type": "code",
   "execution_count": 10,
   "id": "b4df7444-c1a6-4d1f-bf81-a2f1ddae3598",
   "metadata": {},
   "outputs": [
    {
     "name": "stdout",
     "output_type": "stream",
     "text": [
      "Sorted array: [0, 0, 0, 0, 0, 1, 1, 1, 1, 1, 2, 2]\n"
     ]
    }
   ],
   "source": [
    "def sort_array(arr):\n",
    "    low, mid, high = 0, 0, len(arr) - 1\n",
    "\n",
    "    while mid <= high:\n",
    "        if arr[mid] == 0:\n",
    "            arr[low], arr[mid] = arr[mid], arr[low]\n",
    "            low += 1\n",
    "            mid += 1\n",
    "        elif arr[mid] == 1:\n",
    "            mid += 1\n",
    "        else:  # arr[mid] == 2\n",
    "            arr[mid], arr[high] = arr[high], arr[mid]\n",
    "            high -= 1\n",
    "\n",
    "\n",
    "arr = [0, 1, 1, 0, 1, 2, 1, 2, 0, 0, 0, 1]\n",
    "sort_array(arr)\n",
    "print(\"Sorted array:\", arr)"
   ]
  },
  {
   "cell_type": "code",
   "execution_count": 11,
   "id": "65792e6e-98c1-4e8e-b765-c62c91b5f5d0",
   "metadata": {},
   "outputs": [
    {
     "name": "stdout",
     "output_type": "stream",
     "text": [
      "Original array: [64, 34, 25, 12, 22, 11, 90]\n",
      "Sorted array: [11, 12, 22, 25, 34, 64, 90]\n"
     ]
    }
   ],
   "source": [
    "def bubble_sort(arr):\n",
    "    n = len(arr)\n",
    "  \n",
    "    for i in range(n):\n",
    "       \n",
    "        for j in range(0, n - i - 1):\n",
    "            \n",
    "            if arr[j] > arr[j + 1]:\n",
    "                arr[j], arr[j + 1] = arr[j + 1], arr[j]\n",
    "\n",
    "\n",
    "arr = [64, 34, 25, 12, 22, 11, 90]\n",
    "print(\"Original array:\", arr)\n",
    "bubble_sort(arr)\n",
    "print(\"Sorted array:\", arr)"
   ]
  },
  {
   "cell_type": "code",
   "execution_count": null,
   "id": "e49a6c91-d136-4784-b4a0-9f368e5c620c",
   "metadata": {},
   "outputs": [],
   "source": []
  }
 ],
 "metadata": {
  "kernelspec": {
   "display_name": "Python 3 (ipykernel)",
   "language": "python",
   "name": "python3"
  },
  "language_info": {
   "codemirror_mode": {
    "name": "ipython",
    "version": 3
   },
   "file_extension": ".py",
   "mimetype": "text/x-python",
   "name": "python",
   "nbconvert_exporter": "python",
   "pygments_lexer": "ipython3",
   "version": "3.10.8"
  }
 },
 "nbformat": 4,
 "nbformat_minor": 5
}
